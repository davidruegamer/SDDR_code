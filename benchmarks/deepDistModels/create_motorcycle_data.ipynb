{
 "cells": [
  {
   "cell_type": "code",
   "execution_count": 1,
   "metadata": {},
   "outputs": [],
   "source": "import numpy as np\nimport pandas as pd"
  },
  {
   "cell_type": "markdown",
   "metadata": {},
   "source": "Use identical random seed to Rodrigues and Pereira (2018)"
  },
  {
   "cell_type": "code",
   "execution_count": 2,
   "metadata": {},
   "outputs": [],
   "source": "np.random.seed(42)"
  },
  {
   "cell_type": "markdown",
   "metadata": {},
   "source": "Read data set"
  },
  {
   "cell_type": "code",
   "execution_count": 3,
   "metadata": {},
   "outputs": [],
   "source": "dataset = pd.read_csv(\"data/motorcycle.csv\", sep=\",\")"
  },
  {
   "cell_type": "code",
   "execution_count": 4,
   "metadata": {},
   "outputs": [
    {
     "data": {},
     "execution_count": 4,
     "metadata": {},
     "output_type": "execute_result"
    }
   ],
   "source": "dataset.head()"
  },
  {
   "cell_type": "markdown",
   "metadata": {},
   "source": "Standardization as done for the DeepJMQR approach"
  },
  {
   "cell_type": "code",
   "execution_count": 5,
   "metadata": {},
   "outputs": [
    {
     "name": "stderr",
     "output_type": "stream",
     "text": "/home/david/anaconda3/lib/python3.7/site-packages/ipykernel_launcher.py:1: FutureWarning: Method .as_matrix will be removed in a future version. Use .values instead.\n  \"\"\"Entry point for launching an IPython kernel.\n"
    }
   ],
   "source": "original_series = pd.Series(dataset[\"accel\"]).as_matrix()\ny_mean = original_series.mean()\ny_std = original_series.std()\noriginal_series = (original_series - y_mean) / y_std"
  },
  {
   "cell_type": "markdown",
   "metadata": {},
   "source": "Use identical train / test split"
  },
  {
   "cell_type": "code",
   "execution_count": 6,
   "metadata": {},
   "outputs": [],
   "source": "TRAIN_PERC = 0.66\nn_train = int(TRAIN_PERC*len(original_series))\n\nix = np.random.permutation(len(original_series))\nix_train = ix[:n_train]\nix_train = np.array(sorted(ix_train))\nix_test = ix[n_train:]\nix_test = np.array(sorted(ix_test))\n\nX_train = ix_train[:,np.newaxis]\nX_mean = X_train.mean(axis=0)\nX_std = X_train.std(axis=0)\n\nX_train = (X_train - X_mean) / X_std\n\nX_test = ix_test[:,np.newaxis]\nX_test = (X_test - X_mean) / X_std\n\ny_train = original_series[ix_train]\n\ny_test = original_series[ix_test]"
  },
  {
   "cell_type": "code",
   "execution_count": 25,
   "metadata": {},
   "outputs": [],
   "source": "motorcycle_train = pd.DataFrame(np.concatenate([X_train, y_train[:,None]], axis=1))"
  },
  {
   "cell_type": "code",
   "execution_count": 27,
   "metadata": {},
   "outputs": [],
   "source": "motorcycle_train.columns = [\"times\", \"accel\"]"
  },
  {
   "cell_type": "code",
   "execution_count": 28,
   "metadata": {},
   "outputs": [],
   "source": "motorcycle_test = pd.DataFrame(np.concatenate([X_test, y_test[:,None]], axis=1))"
  },
  {
   "cell_type": "code",
   "execution_count": 29,
   "metadata": {},
   "outputs": [],
   "source": "motorcycle_test.columns = motorcycle_train.columns"
  },
  {
   "cell_type": "code",
   "execution_count": 31,
   "metadata": {},
   "outputs": [],
   "source": "motorcycle_train.to_csv(\"data/motorcycle_train.csv\", index=False)\nmotorcycle_test.to_csv(\"data/motorcycle_test.csv\", index=False)"
  }
 ],
 "metadata": {
  "kernelspec": {
   "display_name": "distcal",
   "language": "python",
   "name": "distcal"
  },
  "language_info": {
   "codemirror_mode": {
    "name": "ipython",
    "version": 3
   },
   "file_extension": ".py",
   "mimetype": "text/x-python",
   "name": "python",
   "nbconvert_exporter": "python",
   "pygments_lexer": "ipython3",
   "version": "3.6.9"
  }
 },
 "nbformat": 4,
 "nbformat_minor": 2
}
